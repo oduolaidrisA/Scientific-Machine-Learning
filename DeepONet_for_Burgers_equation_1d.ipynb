{
 "cells": [
  {
   "cell_type": "markdown",
   "id": "fe6a3b05",
   "metadata": {},
   "source": [
    "## DeepONet for 1D-Burgers Equation\n",
    "\n",
    "The 1D Burgers equation is a fundamental nonlinear PDE whose general form can be written as:\n",
    "\\begin{equation}\n",
    " \\frac{\\partial u}{\\partial t} + u \\frac{\\partial u}{\\partial x} = \\nu \\frac{\\partial^2 u}{\\partial x^2}\n",
    "\\end{equation}\n",
    "with initial condition $u(x,0) = u_0(x)$, and boundary conditions that can be periodic, Dirichlet, or Neumann. Where:\n",
    "* $u(x,t)$ is the velocity field,\n",
    "* $x$ and $t$ are the spatial and temporal coordinates respectively,\n",
    "* $\\nu$ is a viscosity diffusion coefficient.\n",
    "\n",
    "In the inviscid form($\\nu = 0$), it models the  propagation of a wave, where the velocity $u(x,t)$ is both the amplitude (height) of the wave and the speed at which that part of the wave travels, such that each \"piece\" of the wave travels at a speed equal to its own height. Over time, the wave steepens, developing shocks or sharp discontinuities."
   ]
  },
  {
   "cell_type": "code",
   "execution_count": 1,
   "id": "6597bd1c",
   "metadata": {},
   "outputs": [
    {
     "name": "stdout",
     "output_type": "stream",
     "text": [
      "cuda\n",
      "NVIDIA RTX A6000\n"
     ]
    }
   ],
   "source": [
    "import os\n",
    "\n",
    "#Importing the required libraries\n",
    "import numpy as np\n",
    "import matplotlib.pyplot as plt\n",
    "import torch\n",
    "from torch.autograd import grad\n",
    "from torch import Tensor\n",
    "import torch.nn as nn\n",
    "import torch.optim as optim     #optimizer\n",
    "import time\n",
    "import copy\n",
    "import pandas as pd  #for the moving average\n",
    "\n",
    "torch.manual_seed(1234)\n",
    "\n",
    "np.random.seed(1234)\n",
    "\n",
    "#Device configuration\n",
    "device = torch.device('cuda' if torch.cuda.is_available() else 'cpu')\n",
    "\n",
    "print(device)\n",
    "\n",
    "if device.type == 'cuda':\n",
    "  print(torch.cuda.get_device_name(0))"
   ]
  },
  {
   "cell_type": "code",
   "execution_count": null,
   "id": "f2bb95a8",
   "metadata": {},
   "outputs": [],
   "source": []
  }
 ],
 "metadata": {
  "kernelspec": {
   "display_name": "venv",
   "language": "python",
   "name": "python3"
  },
  "language_info": {
   "codemirror_mode": {
    "name": "ipython",
    "version": 3
   },
   "file_extension": ".py",
   "mimetype": "text/x-python",
   "name": "python",
   "nbconvert_exporter": "python",
   "pygments_lexer": "ipython3",
   "version": "3.13.3"
  }
 },
 "nbformat": 4,
 "nbformat_minor": 5
}
